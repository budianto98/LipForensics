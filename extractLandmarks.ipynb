{
 "cells": [
  {
   "cell_type": "markdown",
   "id": "d73b2392-fb3f-4ba0-8bd6-bc71a77575dc",
   "metadata": {},
   "source": [
    "# Prepare Data"
   ]
  },
  {
   "cell_type": "markdown",
   "id": "88dd8427-0f16-4019-a9da-ff9f406cf6b8",
   "metadata": {},
   "source": [
    "## 1. Extract frames using FaceForecnsics++ repo"
   ]
  },
  {
   "cell_type": "code",
   "execution_count": 1,
   "id": "89161f28-8269-454c-97f9-4705b3512833",
   "metadata": {},
   "outputs": [],
   "source": [
    "# Original command\n",
    "\n",
    "import os\n",
    "from os.path import join\n",
    "import argparse\n",
    "import subprocess\n",
    "import cv2\n",
    "from tqdm import tqdm\n",
    "\n",
    "\n",
    "DATASET_PATHS = {\n",
    "    'original': 'original_sequences',\n",
    "    'Deepfakes': 'manipulated_sequences/Deepfakes',\n",
    "    'Face2Face': 'manipulated_sequences/Face2Face',\n",
    "    'FaceSwap': 'manipulated_sequences/FaceSwap'\n",
    "}\n",
    "COMPRESSION = ['c0', 'c23', 'c40']\n",
    "\n",
    "\n",
    "def extract_frames(data_path, output_path, method='cv2'):\n",
    "    \"\"\"Method to extract frames, either with ffmpeg or opencv. FFmpeg won't\n",
    "    start from 0 so we would have to rename if we want to keep the filenames\n",
    "    coherent.\"\"\"\n",
    "    os.makedirs(output_path, exist_ok=True)\n",
    "    if method == 'ffmpeg':\n",
    "        subprocess.check_output(\n",
    "            'ffmpeg -i {} {}'.format(\n",
    "                data_path, join(output_path, '%04d.png')),\n",
    "            shell=True, stderr=subprocess.STDOUT)\n",
    "    elif method == 'cv2':\n",
    "        reader = cv2.VideoCapture(data_path)\n",
    "        frame_num = 0\n",
    "        while reader.isOpened():\n",
    "            success, image = reader.read()\n",
    "            if not success:\n",
    "                break\n",
    "            cv2.imwrite(join(output_path, '{:04d}.png'.format(frame_num)),\n",
    "                        image)\n",
    "            frame_num += 1\n",
    "        reader.release()\n",
    "    else:\n",
    "        raise Exception('Wrong extract frames method: {}'.format(method))\n",
    "\n",
    "\n",
    "def extract_method_videos(data_path, dataset, compression):\n",
    "    \"\"\"Extracts all videos of a specified method and compression in the\n",
    "    FaceForensics++ file structure\"\"\"\n",
    "    # videos_path = join(data_path, DATASET_PATHS[dataset], compression, 'videos')\n",
    "    images_path = join(data_path, DATASET_PATHS[dataset], compression, 'images')\n",
    "    # print(\"list = \", tqdm(os.listdir(data_path)))\n",
    "\n",
    "    for video in tqdm(os.listdir(data_path)):\n",
    "        image_folder = video.split('.')[0]\n",
    "        extract_frames(join(data_path, video),\n",
    "                       join(images_path, image_folder))\n",
    "\n",
    "\n"
   ]
  },
  {
   "cell_type": "code",
   "execution_count": 2,
   "id": "1dcf76d4-8ec0-4614-a7d8-65027e6043e4",
   "metadata": {},
   "outputs": [
    {
     "name": "stdout",
     "output_type": "stream",
     "text": [
      "Namespace(compression='c0', data_path='examples/', dataset='original')\n"
     ]
    },
    {
     "name": "stderr",
     "output_type": "stream",
     "text": [
      "\n",
      "00%|████████████████████████████████████████████████████████████████████████████████████████████████████████████████| 2/2 [00:10<00:00,  5.30s/it]"
     ]
    }
   ],
   "source": [
    "\n",
    "# Original command\n",
    "p = argparse.ArgumentParser( formatter_class=argparse.ArgumentDefaultsHelpFormatter)\n",
    "# p.add_argument('--data_path', type=str)\n",
    "p.add_argument('--dataset', '-d', type=str,\n",
    "               choices=list(DATASET_PATHS.keys()) + ['all'],\n",
    "               default='original')\n",
    "p.add_argument('--compression', '-c', type=str, choices=COMPRESSION,\n",
    "               default='c0')\n",
    "\n",
    "p.add_argument('--data_path', default=\"examples/\")\n",
    "\n",
    "\n",
    "args = p.parse_args('')  # important to put '' in Jupyter otherwise it will complain\n",
    "print(args)\n",
    "\n",
    "extract_method_videos(**vars(args))\n"
   ]
  },
  {
   "cell_type": "markdown",
   "id": "f7ddf4ba-14fb-4bfd-9917-6a8df1cc43f1",
   "metadata": {},
   "source": [
    "## 2. copy file to the right location"
   ]
  },
  {
   "cell_type": "code",
   "execution_count": 3,
   "id": "080cca00-5809-40de-888c-38aa69d6b665",
   "metadata": {},
   "outputs": [],
   "source": [
    "import shutil\n",
    "\n",
    "new_path = shutil.copytree('examples/original_sequences/c0/images/id0_id16_0000', \n",
    "                           'data/datasets/CelebDF/FakeCelebDF/images/id0_id16_0000')\n",
    "new_path = shutil.copytree('examples/original_sequences/c0/images/id0_0000',\n",
    "                          'data/datasets/CelebDF/RealCelebDF/images/id0_0000')\n"
   ]
  },
  {
   "cell_type": "markdown",
   "id": "a1325cd5-1d41-4b3f-bc96-0bc5c16a3a38",
   "metadata": {},
   "source": [
    "## 3. Detect face and compute 68 landmarks"
   ]
  },
  {
   "cell_type": "code",
   "execution_count": 4,
   "id": "852390b5-d2cb-4299-9f75-b9ed36468638",
   "metadata": {
    "scrolled": true
   },
   "outputs": [
    {
     "name": "stderr",
     "output_type": "stream",
     "text": [
      "\n",
      "\n",
      "00%|████████████████████████████████████████████████████████████████████████████████████████████████████████████| 469/469 [00:21<00:00, 21.44it/s]"
     ]
    }
   ],
   "source": [
    "import face_alignment\n",
    "import os\n",
    "import numpy as np\n",
    "from skimage import io\n",
    "paths = [\"data/datasets/CelebDF/FakeCelebDF/images/id0_id16_0000\",\n",
    "         \"data/datasets/CelebDF/RealCelebDF/images/id0_0000\"]\n",
    "\n",
    "for path in paths: \n",
    "    fa = face_alignment.FaceAlignment(face_alignment.LandmarksType.TWO_D, flip_input=False)\n",
    "    preds = fa.get_landmarks_from_directory(path)\n",
    "    # print(path)\n",
    "    # print(len(preds))\n",
    "    for k in preds:\n",
    "        # print(k)\n",
    "        item = preds[k][0]\n",
    "        # print(type(item),item)\n",
    "    \n",
    "        filename = k.replace(\"images\", \"landmarks\").replace(\".png\", \".npy\")\n",
    "        folder = os.path.dirname(filename)\n",
    "        if not os.path.exists(folder):\n",
    "            os.makedirs(folder)\n",
    "    \n",
    "        np.save(filename, item)  \n",
    "        # break\n",
    "        "
   ]
  },
  {
   "cell_type": "code",
   "execution_count": 11,
   "id": "b06c77c2-3deb-479f-888d-0727621fc9a5",
   "metadata": {},
   "outputs": [
    {
     "name": "stdout",
     "output_type": "stream",
     "text": [
      "(68, 2)\n"
     ]
    }
   ],
   "source": [
    "# print((preds['data/datasets/Forensics/CelebDF/FakeCelebDF/images/id0_id16_0000/0091.png'])[0].shape)"
   ]
  },
  {
   "cell_type": "markdown",
   "id": "c87b280f-9e10-4e8b-a504-38a0decec3e1",
   "metadata": {},
   "source": [
    "## 4. Crop Mouth & Evaluation\n",
    "\n",
    "\n",
    "Finally run the crop image using\n",
    "\n",
    "```\n",
    "python preprocessing/crop_mouths.py --dataset CelebDF --data-root data/datasets/\n",
    "\n",
    "```\n",
    "\n"
   ]
  },
  {
   "cell_type": "markdown",
   "id": "e8c00195-f24d-48e3-8468-65c79ea4b8fe",
   "metadata": {},
   "source": [
    "## 5. Evaluation \n",
    "a. Download model from  ```https://drive.google.com/file/d/1wfZnxZpyNd5ouJs0LjVls7zU0N_W73L7/view?usp=sharing ```\n",
    "\n",
    "and copy ```lipforensics_ff.pth``` to main directory\n",
    "\n",
    "b. Evaluation\n",
    "\n",
    "the crop-mouths will be store in directory ```cropped_mouths```.\n",
    "\n",
    "Finally ready for running the evaluation \n",
    "\n",
    "```\n",
    "python evaluate.py --dataset CelebDF --weights_forgery lipforensics_ff.pth\n",
    "```\n",
    "\n",
    "\n"
   ]
  }
 ],
 "metadata": {
  "kernelspec": {
   "display_name": "Python 3 (ipykernel)",
   "language": "python",
   "name": "python3"
  },
  "language_info": {
   "codemirror_mode": {
    "name": "ipython",
    "version": 3
   },
   "file_extension": ".py",
   "mimetype": "text/x-python",
   "name": "python",
   "nbconvert_exporter": "python",
   "pygments_lexer": "ipython3",
   "version": "3.8.10"
  }
 },
 "nbformat": 4,
 "nbformat_minor": 5
}
